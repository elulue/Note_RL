{
 "cells": [
  {
   "cell_type": "markdown",
   "metadata": {
    "toc": "true"
   },
   "source": [
    "# Table of Contents\n",
    " <p><div class=\"lev1 toc-item\"><a href=\"#GANs-Demo\" data-toc-modified-id=\"GANs-Demo-1\"><span class=\"toc-item-num\">1&nbsp;&nbsp;</span>GANs Demo</a></div><div class=\"lev2 toc-item\"><a href=\"#原始数据的搜集\" data-toc-modified-id=\"原始数据的搜集-11\"><span class=\"toc-item-num\">1.1&nbsp;&nbsp;</span>原始数据的搜集</a></div><div class=\"lev2 toc-item\"><a href=\"#头像截取\" data-toc-modified-id=\"头像截取-12\"><span class=\"toc-item-num\">1.2&nbsp;&nbsp;</span>头像截取</a></div>"
   ]
  },
  {
   "cell_type": "markdown",
   "metadata": {},
   "source": [
    "# GANs Demo\n",
    "\n",
    "来自 [GAN学习指南：从原理入门到制作生成Demo - 知乎专栏](https://zhuanlan.zhihu.com/p/24767059) 非常有意思的实现，缺点是没有解释源代码，我们尝试解释一下，让本文更加性感些。  \n",
    "爬虫的代码收下了，多谢作者【何之源】，请大家关注作者专栏。"
   ]
  },
  {
   "cell_type": "markdown",
   "metadata": {},
   "source": [
    "## 原始数据的搜集"
   ]
  },
  {
   "cell_type": "code",
   "execution_count": 1,
   "metadata": {
    "collapsed": true
   },
   "outputs": [],
   "source": [
    "import requests\n",
    "from bs4 import BeautifulSoup\n",
    "import os\n",
    "import traceback"
   ]
  },
  {
   "cell_type": "code",
   "execution_count": 37,
   "metadata": {
    "collapsed": true
   },
   "outputs": [],
   "source": [
    "def download(url, filename):\n",
    "    # 判断文件是否存在\n",
    "    if os.path.exists(filename):\n",
    "        print('file exists!')\n",
    "        return\n",
    "    try:\n",
    "        # 给 url 一个请求，返回 Response\n",
    "        # r.text：bytes；r.content：unicode；r.encoding：编码方式\n",
    "        r = requests.get(url, stream=True, timeout=60)\n",
    "        # r.raise_for_status() 会返回 None，因为 r Response 是 200；r.status_code：200\n",
    "        r.raise_for_status()\n",
    "        # 以下面的模式将文本流保存到文件\n",
    "        with open(filename, 'wb') as f:\n",
    "            # r.iter_content()：chunk size 是允许读进内存的 bytes，默认是 1\n",
    "            for chunk in r.iter_content(chunk_size=1024):\n",
    "                if chunk:\n",
    "                    f.write(chunk)\n",
    "                    f.flush()\n",
    "        return filename\n",
    "    # 手动停止，normally Control-C or Delete\n",
    "    except KeyboardInterrupt:\n",
    "        if os.path.exists(filename):\n",
    "            os.remove(filename)\n",
    "        raise KeyboardInterrupt\n",
    "    # 其他错误\n",
    "    except Exception:\n",
    "        # print_exception(sys.exc_type, sys.exc_value, sys.exc_traceback, limit, file) 的简写\n",
    "        # 打印错误信息\n",
    "        traceback.print_exc()\n",
    "        if os.path.exists(filename):\n",
    "            os.remove(filename)"
   ]
  },
  {
   "cell_type": "code",
   "execution_count": 115,
   "metadata": {
    "collapsed": false
   },
   "outputs": [],
   "source": [
    "# 如果没有 ims 目录就创建\n",
    "if os.path.exists('imgs') is False:\n",
    "    os.makedirs('imgs')"
   ]
  },
  {
   "cell_type": "code",
   "execution_count": null,
   "metadata": {
    "collapsed": true
   },
   "outputs": [],
   "source": [
    "# 中间 requests 可能有各种原因会断，看一下循环的位置，修改 start 即可\n",
    "start = 1\n",
    "end = 10\n",
    "for i in range(start, end+1):\n",
    "    # 正则：page 是数字\n",
    "    url = 'http://konachan.net/post?page=%d&tags=' % i\n",
    "    # bytes\n",
    "    html = requests.get(url).text\n",
    "    # 解析网页\n",
    "    soup = BeautifulSoup(html, 'html.parser')\n",
    "    for img in soup.find_all('img', \"preview\"):\n",
    "        target_url = 'http:' + img['src']\n",
    "        # target_url.split('/')[-1] 就是 “文件名.jpg”\n",
    "        # 自动将 文件名.jpg 存在 imgs 目录下面\n",
    "        filename = os.path.join('imgs', target_url.split('/')[-1])\n",
    "        download(target_url, filename)\n",
    "    print('%d / %d' % (i, end))"
   ]
  },
  {
   "cell_type": "markdown",
   "metadata": {},
   "source": [
    "## 头像截取"
   ]
  },
  {
   "cell_type": "code",
   "execution_count": 120,
   "metadata": {
    "collapsed": false
   },
   "outputs": [
    {
     "ename": "ImportError",
     "evalue": "No module named cv2",
     "output_type": "error",
     "traceback": [
      "\u001b[1;31m---------------------------------------------------------------------------\u001b[0m",
      "\u001b[1;31mImportError\u001b[0m                               Traceback (most recent call last)",
      "\u001b[1;32m<ipython-input-120-d4f805c59a11>\u001b[0m in \u001b[0;36m<module>\u001b[1;34m()\u001b[0m\n\u001b[1;32m----> 1\u001b[1;33m \u001b[1;32mimport\u001b[0m \u001b[0mcv2\u001b[0m\u001b[1;33m\u001b[0m\u001b[0m\n\u001b[0m\u001b[0;32m      2\u001b[0m \u001b[1;32mimport\u001b[0m \u001b[0msys\u001b[0m\u001b[1;33m\u001b[0m\u001b[0m\n\u001b[0;32m      3\u001b[0m \u001b[1;32mimport\u001b[0m \u001b[0mos\u001b[0m\u001b[1;33m.\u001b[0m\u001b[0mpath\u001b[0m\u001b[1;33m\u001b[0m\u001b[0m\n\u001b[0;32m      4\u001b[0m \u001b[1;32mfrom\u001b[0m \u001b[0mglob\u001b[0m \u001b[1;32mimport\u001b[0m \u001b[0mglob\u001b[0m\u001b[1;33m\u001b[0m\u001b[0m\n",
      "\u001b[1;31mImportError\u001b[0m: No module named cv2"
     ]
    }
   ],
   "source": [
    "import cv2\n",
    "import sys\n",
    "import os.path\n",
    "from glob import glob"
   ]
  },
  {
   "cell_type": "code",
   "execution_count": null,
   "metadata": {
    "collapsed": true
   },
   "outputs": [],
   "source": []
  }
 ],
 "metadata": {
  "kernelspec": {
   "display_name": "Python 2",
   "language": "python",
   "name": "python2"
  },
  "language_info": {
   "codemirror_mode": {
    "name": "ipython",
    "version": 2
   },
   "file_extension": ".py",
   "mimetype": "text/x-python",
   "name": "python",
   "nbconvert_exporter": "python",
   "pygments_lexer": "ipython2",
   "version": "2.7.12"
  },
  "latex_envs": {
   "LaTeX_envs_menu_present": true,
   "bibliofile": "biblio.bib",
   "cite_by": "apalike",
   "current_citInitial": 1,
   "eqLabelWithNumbers": true,
   "eqNumInitial": 1,
   "hotkeys": {
    "equation": "Ctrl-E",
    "itemize": "Ctrl-I"
   },
   "labels_anchors": false,
   "latex_user_defs": false,
   "report_style_numbering": false,
   "user_envs_cfg": false
  },
  "toc": {
   "colors": {
    "hover_highlight": "#DAA520",
    "running_highlight": "#FF0000",
    "selected_highlight": "#FFD700"
   },
   "moveMenuLeft": true,
   "nav_menu": {
    "height": "11.818182px",
    "width": "1.818182px"
   },
   "navigate_menu": true,
   "number_sections": true,
   "sideBar": true,
   "threshold": 4,
   "toc_cell": true,
   "toc_position": {
    "height": "485px",
    "left": "0px",
    "right": "980.739px",
    "top": "105px",
    "width": "212px"
   },
   "toc_section_display": "block",
   "toc_window_display": true
  }
 },
 "nbformat": 4,
 "nbformat_minor": 0
}
